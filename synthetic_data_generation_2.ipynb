{
 "cells": [
  {
   "cell_type": "code",
   "execution_count": 87,
   "metadata": {},
   "outputs": [],
   "source": [
    "import numpy as np\n",
    "import matplotlib.pyplot as plt\n",
    "import random\n",
    "from scipy.stats import truncnorm\n",
    "from scipy.ndimage import gaussian_filter\n",
    "import h5py\n",
    "import os\n",
    "import pickle"
   ]
  },
  {
   "cell_type": "code",
   "execution_count": 88,
   "metadata": {},
   "outputs": [],
   "source": [
    "grid_size = (100, 100) \n",
    "num_cells = 5\n",
    "num_genes = 30\n",
    "cell_types = 20\n",
    "umi_range = (20, 80)"
   ]
  },
  {
   "cell_type": "code",
   "execution_count": 89,
   "metadata": {},
   "outputs": [],
   "source": [
    "cell_type_profiles = np.random.dirichlet(np.ones(num_genes), cell_types)"
   ]
  },
  {
   "cell_type": "code",
   "execution_count": 28,
   "metadata": {},
   "outputs": [],
   "source": [
    "# genes_per_subset = 1\n",
    "\n",
    "# cell_type_profiles = np.zeros((cell_types, num_genes))\n",
    "\n",
    "# gene_indices = np.arange(num_genes)\n",
    "# np.random.shuffle(gene_indices)\n",
    "\n",
    "# for i in range(cell_types):\n",
    "#     subset_indices = gene_indices[i * genes_per_subset:(i + 1) * genes_per_subset]\n",
    "    \n",
    "#     cell_type_profiles[i, subset_indices] = np.random.dirichlet(np.ones(genes_per_subset), 1)\n"
   ]
  },
  {
   "cell_type": "code",
   "execution_count": 90,
   "metadata": {},
   "outputs": [
    {
     "data": {
      "text/plain": [
       "(20, 30)"
      ]
     },
     "execution_count": 90,
     "metadata": {},
     "output_type": "execute_result"
    }
   ],
   "source": [
    "cell_type_profiles.shape"
   ]
  },
  {
   "cell_type": "code",
   "execution_count": 91,
   "metadata": {},
   "outputs": [
    {
     "data": {
      "text/plain": [
       "array([0.00172653, 0.00160621, 0.14240782, 0.02432277, 0.07257849,\n",
       "       0.05221128, 0.01006503, 0.02816973, 0.06974825, 0.00268775,\n",
       "       0.00775529, 0.00023776, 0.11548783, 0.00628669, 0.01086815,\n",
       "       0.08742896, 0.00944416, 0.04163007, 0.1094141 , 0.00040352,\n",
       "       0.00579019, 0.00185531, 0.00453297, 0.05317299, 0.02359878,\n",
       "       0.02284167, 0.07402971, 0.01005131, 0.00064496, 0.00900172])"
      ]
     },
     "execution_count": 91,
     "metadata": {},
     "output_type": "execute_result"
    }
   ],
   "source": [
    "cell_type_profiles[1]"
   ]
  },
  {
   "cell_type": "code",
   "execution_count": 92,
   "metadata": {},
   "outputs": [],
   "source": [
    "def generate_single_cell():\n",
    "    cell_type_idx = np.random.choice(cell_types)\n",
    "    umi_count = np.random.randint(umi_range[0], umi_range[1])\n",
    "    expression_vector = np.random.poisson(umi_count * cell_type_profiles[cell_type_idx])\n",
    "    \n",
    "    return (expression_vector, cell_type_idx, umi_count)"
   ]
  },
  {
   "cell_type": "code",
   "execution_count": 93,
   "metadata": {},
   "outputs": [
    {
     "data": {
      "text/plain": [
       "30"
      ]
     },
     "execution_count": 93,
     "metadata": {},
     "output_type": "execute_result"
    }
   ],
   "source": [
    "len(generate_single_cell()[0])"
   ]
  },
  {
   "cell_type": "code",
   "execution_count": 94,
   "metadata": {},
   "outputs": [],
   "source": [
    "def create_cell_mask(shape_type='oval', size=(15, 10)):\n",
    "    mask = np.zeros(size)\n",
    "    rr, cc = np.ogrid[:size[0], :size[1]]\n",
    "    if shape_type == 'oval':\n",
    "        mask[(rr - size[0]//2)**2 / size[0]**2 + (cc - size[1]//2)**2 / size[1]**2 < 0.25] = 1\n",
    "    elif shape_type == 'circle':\n",
    "        mask[(rr - size[0]//2)**2 + (cc - size[1]//2)**2 < (size[0]//2)**2] = 1\n",
    "    elif shape_type == 'rectangle':\n",
    "        mask[:,:] = 1\n",
    "    return mask"
   ]
  },
  {
   "cell_type": "code",
   "execution_count": 95,
   "metadata": {},
   "outputs": [],
   "source": [
    "def is_overlapping(grid, mask, pos):\n",
    "    x, y = pos\n",
    "    if x + mask.shape[0] > grid.shape[0] or y + mask.shape[1] > grid.shape[1]:\n",
    "        return True\n",
    "    return np.any(grid[x:x+mask.shape[0], y:y+mask.shape[1]] * mask)"
   ]
  },
  {
   "cell_type": "code",
   "execution_count": 97,
   "metadata": {},
   "outputs": [],
   "source": [
    "def place_cells(grid, num_cells):\n",
    "    cell_positions = []\n",
    "    for _ in range(num_cells):\n",
    "\n",
    "        shape = random.choice(['oval', 'circle'])#, 'rectangle'])\n",
    "        size = (random.randint(10, 20), random.randint(10, 20))\n",
    "        mask = create_cell_mask(shape, size)\n",
    "        \n",
    "        gene_counts, cell_type, num_transcripts = generate_single_cell()\n",
    "        gene_distribution = []\n",
    "        for gene_idx, count in enumerate(gene_counts):\n",
    "            gene_distribution.extend([gene_idx] * count)  # Add gene indices based on count\n",
    "        print(max(gene_distribution))\n",
    "        for _ in range(1000):\n",
    "            x, y = np.random.randint(0, grid_size[0] - size[0]), np.random.randint(0, grid_size[1] - size[1])\n",
    "            if not is_overlapping(grid, mask, (x, y)):\n",
    "                gene_index_grid = np.zeros_like(mask, dtype=int)\n",
    "                mask_indices = np.argwhere(mask == 1)\n",
    "                if len(gene_distribution) > len(mask_indices):\n",
    "                    chosen_indices = np.random.choice(len(mask_indices), size=len(mask_indices), replace=True)\n",
    "                    gene_distribution = gene_distribution[:len(mask_indices)]  \n",
    "                else:\n",
    "                    chosen_indices = np.random.choice(len(mask_indices), size=len(gene_distribution), replace=False)\n",
    "                \n",
    "                for i, (r, c) in enumerate(mask_indices[chosen_indices]):\n",
    "                    gene_index_grid[r, c] = gene_distribution[i]\n",
    "                \n",
    "                grid[x:x+mask.shape[0], y:y+mask.shape[1]] += gene_index_grid\n",
    "                cell_positions.append((x, y, size, shape, cell_type, num_transcripts))\n",
    "                break\n",
    "    return grid, cell_positions"
   ]
  },
  {
   "cell_type": "code",
   "execution_count": 128,
   "metadata": {},
   "outputs": [
    {
     "name": "stdout",
     "output_type": "stream",
     "text": [
      "29\n",
      "29\n",
      "29\n",
      "29\n",
      "23\n"
     ]
    }
   ],
   "source": [
    "grid = np.zeros(grid_size, dtype=int)\n",
    "grid, cell_positions = place_cells(grid, num_cells)"
   ]
  },
  {
   "cell_type": "code",
   "execution_count": 130,
   "metadata": {},
   "outputs": [
    {
     "data": {
      "text/plain": [
       "[(76, 67, (11, 19), 'oval', 14, 59),\n",
       " (15, 28, (19, 17), 'circle', 2, 20),\n",
       " (13, 73, (12, 18), 'circle', 16, 63),\n",
       " (81, 5, (17, 18), 'oval', 15, 38),\n",
       " (52, 1, (17, 20), 'circle', 5, 30)]"
      ]
     },
     "execution_count": 130,
     "metadata": {},
     "output_type": "execute_result"
    }
   ],
   "source": [
    "cell_positions"
   ]
  },
  {
   "cell_type": "code",
   "execution_count": 100,
   "metadata": {},
   "outputs": [
    {
     "data": {
      "text/plain": [
       "5"
      ]
     },
     "execution_count": 100,
     "metadata": {},
     "output_type": "execute_result"
    }
   ],
   "source": [
    "len(cell_positions)"
   ]
  },
  {
   "cell_type": "code",
   "execution_count": 101,
   "metadata": {},
   "outputs": [
    {
     "data": {
      "text/plain": [
       "array([[0, 0, 0, ..., 0, 0, 0],\n",
       "       [0, 0, 0, ..., 0, 0, 0],\n",
       "       [0, 0, 0, ..., 0, 0, 0],\n",
       "       ...,\n",
       "       [0, 0, 0, ..., 0, 0, 0],\n",
       "       [0, 0, 0, ..., 0, 0, 0],\n",
       "       [0, 0, 0, ..., 0, 0, 0]])"
      ]
     },
     "execution_count": 101,
     "metadata": {},
     "output_type": "execute_result"
    }
   ],
   "source": [
    "grid"
   ]
  },
  {
   "cell_type": "code",
   "execution_count": 129,
   "metadata": {},
   "outputs": [
    {
     "data": {
      "image/png": "[encoded data removed]",
      "text/plain": [
       "<Figure size 1000x1000 with 2 Axes>"
      ]
     },
     "metadata": {},
     "output_type": "display_data"
    }
   ],
   "source": [
    "plt.figure(figsize=(10, 10))\n",
    "plt.imshow(grid, cmap='tab20', interpolation='nearest')\n",
    "plt.colorbar(label='Gene Index')\n",
    "plt.title(\"Synthetic Spatial Transcriptomics Data with Varying Cell Sizes\")\n",
    "plt.show()"
   ]
  },
  {
   "cell_type": "code",
   "execution_count": 131,
   "metadata": {},
   "outputs": [],
   "source": [
    "def add_gaussian_noise(synthetic_grid, num_noise_points=100):\n",
    "    x_noise = np.random.randint(0, grid_size[0], size=num_noise_points)\n",
    "    y_noise = np.random.randint(0, grid_size[1], size=num_noise_points)\n",
    "    random_genes = np.random.randint(0, num_genes, size=num_noise_points)\n",
    "\n",
    "    # Add the Gaussian noise (random genes) to the grid at random positions\n",
    "    for x, y, gene in zip(x_noise, y_noise, random_genes):\n",
    "        if synthetic_grid[x, y] == 0:  # Only add noise where there's no existing transcript (optional)\n",
    "            synthetic_grid[x, y] = gene\n",
    "            \n",
    "    return synthetic_grid"
   ]
  },
  {
   "cell_type": "code",
   "execution_count": 132,
   "metadata": {},
   "outputs": [
    {
     "data": {
      "text/plain": [
       "(100, 100)"
      ]
     },
     "execution_count": 132,
     "metadata": {},
     "output_type": "execute_result"
    }
   ],
   "source": [
    "grid.shape"
   ]
  },
  {
   "cell_type": "code",
   "execution_count": 133,
   "metadata": {},
   "outputs": [
    {
     "data": {
      "image/png": "[encoded data removed]",
      "text/plain": [
       "<Figure size 1000x1000 with 2 Axes>"
      ]
     },
     "metadata": {},
     "output_type": "display_data"
    }
   ],
   "source": [
    "\n",
    "synthetic_grid = add_gaussian_noise(grid.copy())\n",
    "\n",
    "# Plot the updated grid\n",
    "plt.figure(figsize=(10, 10))\n",
    "plt.imshow(synthetic_grid, cmap=\"tab20\", interpolation='nearest')\n",
    "plt.colorbar(label=\"Gene Index\")\n",
    "plt.title(\"Synthetic Spatial Transcriptomics Data with Random Gene Noise\")\n",
    "plt.show()"
   ]
  },
  {
   "cell_type": "code",
   "execution_count": 134,
   "metadata": {},
   "outputs": [],
   "source": [
    "path = \"/data/aram/Xenium/output-XETG00056__0004637__Region_1__20230718__204100/code/data/synthetic_data_2\"\n",
    "def make_patches(num_cells_in_grid, num_patches):\n",
    "    for i in range(num_patches):\n",
    "        grid = np.zeros(grid_size, dtype=int)\n",
    "        grid, cell_positions = place_cells(grid, num_cells_in_grid)\n",
    "        synthetic_grid = add_gaussian_noise(grid)\n",
    "        \n",
    "        y_coords, x_coords = np.nonzero(synthetic_grid)  # np.nonzero returns (y, x) coordinates\n",
    "        gene_indices = synthetic_grid[y_coords, x_coords]  # Get the gene indices at those positions\n",
    "        np.savez(path + '/data/gene_coordinates_'+str(i)+'.npz', x_coords=x_coords, y_coords=y_coords, gene_indices=gene_indices)\n",
    "        with open(path+'/cell_positions/cell_'+str(i)+'.pkl', 'wb') as f:\n",
    "            pickle.dump(cell_positions, f)"
   ]
  },
  {
   "cell_type": "code",
   "execution_count": 135,
   "metadata": {},
   "outputs": [],
   "source": [
    "path = \"/data/aram/Xenium/output-XETG00056__0004637__Region_1__20230718__204100/code/data/synthetic_data_2\"\n",
    "\n",
    "y_coords, x_coords = np.nonzero(grid)\n",
    "gene_indices = grid[y_coords, x_coords]\n",
    "np.savez(path + '/gene_coordinates_test_cells1'+'.npz', x_coords=x_coords, y_coords=y_coords, gene_indices=gene_indices)\n"
   ]
  },
  {
   "cell_type": "code",
   "execution_count": 136,
   "metadata": {},
   "outputs": [],
   "source": [
    "with open(\"/data/aram/Xenium/output-XETG00056__0004637__Region_1__20230718__204100/code/data/synthetic_data_2/cell_type_profiles.pkl\", 'wb') as f:\n",
    "    pickle.dump(cell_type_profiles, f)"
   ]
  }
 ],
 "metadata": {
  "kernelspec": {
   "display_name": "myenv",
   "language": "python",
   "name": "python3"
  },
  "language_info": {
   "codemirror_mode": {
    "name": "ipython",
    "version": 3
   },
   "file_extension": ".py",
   "mimetype": "text/x-python",
   "name": "python",
   "nbconvert_exporter": "python",
   "pygments_lexer": "ipython3",
   "version": "3.9.19"
  }
 },
 "nbformat": 4,
 "nbformat_minor": 2
}
